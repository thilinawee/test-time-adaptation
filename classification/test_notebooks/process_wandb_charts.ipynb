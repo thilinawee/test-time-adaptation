{
 "cells": [
  {
   "cell_type": "code",
   "execution_count": null,
   "metadata": {},
   "outputs": [],
   "source": [
    "import wandb"
   ]
  },
  {
   "cell_type": "code",
   "execution_count": null,
   "metadata": {},
   "outputs": [],
   "source": [
    "import wandb\n",
    "import pandas as pd\n",
    "\n",
    "# Initialize the W&B API\n",
    "api = wandb.Api()\n",
    "\n",
    "# Replace with your entity, project, and run ID\n",
    "# Access the run\n",
    "# run = api.run(f\"{entity}/{project}/{run_id}\")\n",
    "run = api.run(\"rmit_is/imagenet_c_vision_transformers/eyrvah10\")\n",
    "\n",
    "# Retrieve the run's history\n",
    "history = run.scan_history()\n",
    "\n",
    "# Convert the history to a DataFrame\n",
    "df = pd.DataFrame(history)\n",
    "\n",
    "# Save the DataFrame to a CSV file\n",
    "df.to_csv('run_history.csv', index=False)\n",
    "\n",
    "print(df.columns)"
   ]
  },
  {
   "cell_type": "code",
   "execution_count": null,
   "metadata": {},
   "outputs": [],
   "source": [
    "corruptions =[\"gaussian_noise\",\n",
    "    \"shot_noise\",\n",
    "    \"impulse_noise\",\n",
    "    \"defocus_blur\",\n",
    "    \"glass_blur\",\n",
    "    \"motion_blur\",\n",
    "    \"zoom_blur\",\n",
    "    \"snow\",\n",
    "    \"frost\",\n",
    "    \"fog\",\n",
    "    \"brightness\",\n",
    "    \"contrast\",\n",
    "    \"elastic_transform\",\n",
    "    \"pixelate\",\n",
    "    \"jpeg_compression\"]\n",
    "\n",
    "display_df = pd.DataFrame(columns=[\"measurements\"] + corruptions)\n",
    "display_df[\"measurements\"] = [\"Max Accuracy\", \"Avg Accuracy\", \"Unadapted Accuracy\"]\n",
    "for corruption in corruptions:\n",
    "    sub_df = df.dropna(subset=[f\"avg_accuracy/{corruption}\"])\n",
    "    sub_df = sub_df.sort_values(by='custom_step', ascending=True)\n",
    "    \n",
    "    avg_acc = 0\n",
    "    max_all_class_acc = -1\n",
    "\n",
    "    for ii in range(len(sub_df)):\n",
    "        all_class_acc = sub_df.iloc[ii][f\"avg_accuracy/{corruption}\"]\n",
    "        step = sub_df.iloc[ii][\"custom_step\"]\n",
    "\n",
    "        if step == 0:\n",
    "            continue\n",
    "        avg_acc += all_class_acc\n",
    "\n",
    "    unadapted_acc = sub_df.iloc[0][f\"avg_accuracy/{corruption}\"]\n",
    "    avg_acc /= len(sub_df)-1\n",
    "    max_all_class_acc = sub_df[1:][f\"avg_accuracy/{corruption}\"].max()\n",
    "    \n",
    "\n",
    "    display_df.loc[0, corruption] = max_all_class_acc.round(4)\n",
    "    display_df.loc[1, corruption] = avg_acc.round(4)\n",
    "    display_df.loc[2, corruption] = unadapted_acc.round(4)\n",
    "    \n",
    "    print(f\"Corruption: {corruption}, Avg Accuracy: {avg_acc:.4f} \\t Max Accuracy: {max_all_class_acc:.4f}\")\n"
   ]
  },
  {
   "cell_type": "code",
   "execution_count": null,
   "metadata": {},
   "outputs": [],
   "source": [
    "display_df"
   ]
  }
 ],
 "metadata": {
  "kernelspec": {
   "display_name": "tta",
   "language": "python",
   "name": "python3"
  },
  "language_info": {
   "codemirror_mode": {
    "name": "ipython",
    "version": 3
   },
   "file_extension": ".py",
   "mimetype": "text/x-python",
   "name": "python",
   "nbconvert_exporter": "python",
   "pygments_lexer": "ipython3",
   "version": "3.12.2"
  }
 },
 "nbformat": 4,
 "nbformat_minor": 2
}
